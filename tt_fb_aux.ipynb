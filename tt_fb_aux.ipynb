{
 "cells": [
  {
   "cell_type": "code",
   "execution_count": 2,
   "metadata": {
    "colab": {
     "base_uri": "https://localhost:8080/"
    },
    "id": "YLKu3UDXiDr0",
    "outputId": "a875ba40-4d3c-463c-8424-79a11321b209"
   },
   "outputs": [
    {
     "name": "stdout",
     "output_type": "stream",
     "text": [
      "Mon Apr 12 12:19:29 2021       \n",
      "+-----------------------------------------------------------------------------+\n",
      "| NVIDIA-SMI 460.67       Driver Version: 460.32.03    CUDA Version: 11.2     |\n",
      "|-------------------------------+----------------------+----------------------+\n",
      "| GPU  Name        Persistence-M| Bus-Id        Disp.A | Volatile Uncorr. ECC |\n",
      "| Fan  Temp  Perf  Pwr:Usage/Cap|         Memory-Usage | GPU-Util  Compute M. |\n",
      "|                               |                      |               MIG M. |\n",
      "|===============================+======================+======================|\n",
      "|   0  Tesla T4            Off  | 00000000:00:04.0 Off |                    0 |\n",
      "| N/A   59C    P8    11W /  70W |      0MiB / 15109MiB |      0%      Default |\n",
      "|                               |                      |                  N/A |\n",
      "+-------------------------------+----------------------+----------------------+\n",
      "                                                                               \n",
      "+-----------------------------------------------------------------------------+\n",
      "| Processes:                                                                  |\n",
      "|  GPU   GI   CI        PID   Type   Process name                  GPU Memory |\n",
      "|        ID   ID                                                   Usage      |\n",
      "|=============================================================================|\n",
      "|  No running processes found                                                 |\n",
      "+-----------------------------------------------------------------------------+\n"
     ]
    }
   ],
   "source": [
    "!nvidia-smi"
   ]
  },
  {
   "cell_type": "code",
   "execution_count": null,
   "metadata": {
    "id": "hG8BlNhSjd6q"
   },
   "outputs": [],
   "source": [
    "import random, string, urllib.request, json, getpass\n",
    " \n",
    "password = 'linux'\n",
    " \n",
    "#Setup sshd\n",
    "! apt-get install -qq -o=Dpkg::Use-Pty=0 openssh-server autossh pwgen screen htop vim  > /dev/null\n",
    " \n",
    "#Set root password\n",
    "! echo root:$password | chpasswd\n",
    "! mkdir -p /var/run/sshd\n",
    "! echo \"PermitRootLogin yes\" >> /etc/ssh/sshd_config\n",
    "! echo \"PasswordAuthentication yes\" >> /etc/ssh/sshd_config\n",
    "! echo \"Port 22\" >> /etc/ssh/sshd_config\n",
    "! echo \"LD_LIBRARY_PATH=/usr/lib64-nvidia\" >> /root/.bashrc\n",
    "! echo \"export LD_LIBRARY_PATH\" >> /root/.bashrc\n",
    " \n",
    "#Run sshd\n",
    "get_ipython().system_raw('/usr/sbin/sshd -D &')"
   ]
  },
  {
   "cell_type": "code",
   "execution_count": 4,
   "metadata": {
    "colab": {
     "base_uri": "https://localhost:8080/"
    },
    "id": "vI3xpQhBXIQT",
    "outputId": "09a0963f-915b-44e5-a40c-da58c502111a"
   },
   "outputs": [
    {
     "name": "stdout",
     "output_type": "stream",
     "text": [
      "/root\n"
     ]
    }
   ],
   "source": [
    "%cd /root/"
   ]
  },
  {
   "cell_type": "code",
   "execution_count": null,
   "metadata": {
    "id": "Jd4N5dy2XQnx"
   },
   "outputs": [],
   "source": [
    "!wget --load-cookies /tmp/cookies.txt \"https://docs.google.com/uc?export=download&confirm=$(wget --quiet --save-cookies /tmp/cookies.txt --keep-session-cookies --no-check-certificate 'https://docs.google.com/uc?export=download&id='17XTAwiO_n4xf3Qvk3PJnMDRkPQ--3-oQ -O- | sed -rn 's/.*confirm=([0-9A-Za-z_]+).*/\\1\\n/p')&id=17XTAwiO_n4xf3Qvk3PJnMDRkPQ--3-oQ\" -O code.zip\n",
    "\n",
    "!rm /tmp/cookies.txt\n",
    "!unzip code.zip\n",
    "!mv code_aux code\n",
    "!chmod +x ./code/envs/python3\n",
    "!chmod +x ./code/run.sh\n"
   ]
  },
  {
   "cell_type": "code",
   "execution_count": null,
   "metadata": {
    "id": "OBhO2YOJHKVA"
   },
   "outputs": [],
   "source": [
    "!while true; do clear; date; sleep 600; done"
   ]
  }
 ],
 "metadata": {
  "accelerator": "GPU",
  "colab": {
   "collapsed_sections": [],
   "name": "tt_fb_aux.ipynb",
   "provenance": []
  },
  "kernelspec": {
   "display_name": "Python 3",
   "language": "python",
   "name": "python3"
  },
  "language_info": {
   "codemirror_mode": {
    "name": "ipython",
    "version": 3
   },
   "file_extension": ".py",
   "mimetype": "text/x-python",
   "name": "python",
   "nbconvert_exporter": "python",
   "pygments_lexer": "ipython3",
   "version": "3.6.5"
  }
 },
 "nbformat": 4,
 "nbformat_minor": 1
}
